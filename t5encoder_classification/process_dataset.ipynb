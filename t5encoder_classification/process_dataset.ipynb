{
 "cells": [
  {
   "cell_type": "code",
   "execution_count": 2,
   "metadata": {},
   "outputs": [],
   "source": [
    "import pandas as pd\n",
    "import json\n",
    "from datasets import load_dataset, load_metric"
   ]
  },
  {
   "cell_type": "code",
   "execution_count": 86,
   "metadata": {},
   "outputs": [
    {
     "name": "stdout",
     "output_type": "stream",
     "text": [
      "Number of samples: 14897\n",
      "Number of samples after filtering empty articles: 14897\n",
      "Number of samples after filtering empty summaries: 14876\n",
      "Number of samples after filtering empty labels: 14826\n"
     ]
    }
   ],
   "source": [
    "import os, glob\n",
    "\n",
    "data_dir = \"./data/axis_evals/\"\n",
    "\n",
    "df = []\n",
    "for file in glob.glob(data_dir + \"*.json\"):\n",
    "    # load the jsonl as dataframe\n",
    "    tmp = pd.read_json(file, lines=True)\n",
    "    df.append(tmp)\n",
    "\n",
    "df = pd.concat(df, ignore_index=True)\n",
    "\n",
    "\n",
    "def get_article_text(row):\n",
    "    try:\n",
    "        return row[\"info\"][\"article\"]\n",
    "    except:\n",
    "        return row[\"info\"][\"post\"]\n",
    "\n",
    "def get_score(row):\n",
    "    try:\n",
    "        return row[\"summary\"][\"axes\"][\"overall\"]\n",
    "    except:\n",
    "        return \"\"\n",
    "\n",
    "df[\"article\"] = df.apply(get_article_text, axis=1)\n",
    "df[\"summary_text\"] = df[\"summary\"].apply(lambda x: x[\"text\"])\n",
    "df[\"label\"] = df.apply(get_score, axis=1)\n",
    "print(\"Number of samples:\", len(df))\n",
    "# filter empty articles\n",
    "df = df[df[\"article\"] != \"\"]\n",
    "print(\"Number of samples after filtering empty articles:\", len(df))\n",
    "# filter empty summaries\n",
    "df = df[df[\"summary_text\"] != \"\"]\n",
    "print(\"Number of samples after filtering empty summaries:\", len(df))\n",
    "# filter empty labels\n",
    "df = df[df[\"label\"] != \"\"]\n",
    "print(\"Number of samples after filtering empty labels:\", len(df))\n",
    "df = df.reset_index(drop=True)"
   ]
  },
  {
   "cell_type": "code",
   "execution_count": 91,
   "metadata": {},
   "outputs": [
    {
     "name": "stdout",
     "output_type": "stream",
     "text": [
      "Train size: 11860\n",
      "Val size: 1483\n",
      "Test size: 1483\n"
     ]
    }
   ],
   "source": [
    "cols = [\"article\", \"summary_text\", \"label\"]\n",
    "df[cols].to_csv(\"./data/axis_evals.csv\", index=False)\n",
    "\n",
    "from sklearn.model_selection import train_test_split\n",
    "# split train, val, test with ratio 80:10:10\n",
    "train, test = train_test_split(df, test_size=0.2, random_state=42)\n",
    "val, test = train_test_split(test, test_size=0.5, random_state=42)\n",
    "print(\"Train size:\", len(train))\n",
    "print(\"Val size:\", len(val))\n",
    "print(\"Test size:\", len(test))\n",
    "\n",
    "train[cols].to_csv(\"./data/axis_evals_train.csv\", index=False)\n",
    "val[cols].to_csv(\"./data/axis_evals_val.csv\", index=False)\n",
    "test[cols].to_csv(\"./data/axis_evals_test.csv\", index=False)"
   ]
  },
  {
   "cell_type": "code",
   "execution_count": null,
   "metadata": {},
   "outputs": [],
   "source": []
  }
 ],
 "metadata": {
  "kernelspec": {
   "display_name": "Python 3.7.6 ('base')",
   "language": "python",
   "name": "python3"
  },
  "language_info": {
   "codemirror_mode": {
    "name": "ipython",
    "version": 3
   },
   "file_extension": ".py",
   "mimetype": "text/x-python",
   "name": "python",
   "nbconvert_exporter": "python",
   "pygments_lexer": "ipython3",
   "version": "3.7.6"
  },
  "orig_nbformat": 4,
  "vscode": {
   "interpreter": {
    "hash": "7c7c0b8991bab7a7245a4f5a2595685c29907cb1bbae4ec8c1c7e47e2baebd0e"
   }
  }
 },
 "nbformat": 4,
 "nbformat_minor": 2
}
